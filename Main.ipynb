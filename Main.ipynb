{
 "cells": [
  {
   "cell_type": "code",
   "execution_count": 1,
   "metadata": {},
   "outputs": [
    {
     "name": "stdout",
     "output_type": "stream",
     "text": [
      "0\n"
     ]
    }
   ],
   "source": [
    "# Import packages and connect to database\n",
    "import sqlite3\n",
    "import pandas as pd\n",
    "import numpy as np\n",
    "import scipy.stats as st\n",
    "import matplotlib.pyplot as plt\n",
    "import seaborn as sns\n",
    "import datetime\n",
    "\n",
    "%config InlineBackend.figure_formats = ['svg']\n",
    "%matplotlib inline\n",
    "\n",
    "from sklearn.preprocessing import OneHotEncoder\n",
    "import statsmodels.api as sm\n",
    "from sklearn.linear_model import LogisticRegression\n",
    "from sklearn.metrics import roc_auc_score, confusion_matrix, roc_curve\n",
    "from sklearn.preprocessing import StandardScaler\n",
    "from sklearn.metrics import precision_score, recall_score, precision_recall_curve,f1_score, fbeta_score\n",
    "\n",
    "conn = sqlite3.connect(\"Wildfires.sqlite\")\n",
    "print(conn.total_changes)"
   ]
  },
  {
   "cell_type": "code",
   "execution_count": 2,
   "metadata": {},
   "outputs": [
    {
     "name": "stdout",
     "output_type": "stream",
     "text": [
      "<class 'pandas.core.frame.DataFrame'>\n",
      "RangeIndex: 1880465 entries, 0 to 1880464\n",
      "Data columns (total 39 columns):\n",
      " #   Column                      Dtype  \n",
      "---  ------                      -----  \n",
      " 0   OBJECTID                    int64  \n",
      " 1   FOD_ID                      int64  \n",
      " 2   FPA_ID                      object \n",
      " 3   SOURCE_SYSTEM_TYPE          object \n",
      " 4   SOURCE_SYSTEM               object \n",
      " 5   NWCG_REPORTING_AGENCY       object \n",
      " 6   NWCG_REPORTING_UNIT_ID      object \n",
      " 7   NWCG_REPORTING_UNIT_NAME    object \n",
      " 8   SOURCE_REPORTING_UNIT       object \n",
      " 9   SOURCE_REPORTING_UNIT_NAME  object \n",
      " 10  LOCAL_FIRE_REPORT_ID        object \n",
      " 11  LOCAL_INCIDENT_ID           object \n",
      " 12  FIRE_CODE                   object \n",
      " 13  FIRE_NAME                   object \n",
      " 14  ICS_209_INCIDENT_NUMBER     object \n",
      " 15  ICS_209_NAME                object \n",
      " 16  MTBS_ID                     object \n",
      " 17  MTBS_FIRE_NAME              object \n",
      " 18  COMPLEX_NAME                object \n",
      " 19  FIRE_YEAR                   int64  \n",
      " 20  DISCOVERY_DATE              float64\n",
      " 21  DISCOVERY_DOY               int64  \n",
      " 22  DISCOVERY_TIME              object \n",
      " 23  STAT_CAUSE_CODE             float64\n",
      " 24  STAT_CAUSE_DESCR            object \n",
      " 25  CONT_DATE                   float64\n",
      " 26  CONT_DOY                    float64\n",
      " 27  CONT_TIME                   object \n",
      " 28  FIRE_SIZE                   float64\n",
      " 29  FIRE_SIZE_CLASS             object \n",
      " 30  LATITUDE                    float64\n",
      " 31  LONGITUDE                   float64\n",
      " 32  OWNER_CODE                  float64\n",
      " 33  OWNER_DESCR                 object \n",
      " 34  STATE                       object \n",
      " 35  COUNTY                      object \n",
      " 36  FIPS_CODE                   object \n",
      " 37  FIPS_NAME                   object \n",
      " 38  Shape                       object \n",
      "dtypes: float64(8), int64(4), object(27)\n",
      "memory usage: 559.5+ MB\n"
     ]
    }
   ],
   "source": [
    "# Read in Data\n",
    "df = pd.read_sql_query(\"SELECT * FROM Fires;\", conn)\n",
    "df.info()"
   ]
  },
  {
   "cell_type": "code",
   "execution_count": 3,
   "metadata": {},
   "outputs": [
    {
     "name": "stdout",
     "output_type": "stream",
     "text": [
      "<class 'pandas.core.frame.DataFrame'>\n",
      "Int64Index: 746709 entries, 13 to 1880463\n",
      "Data columns (total 39 columns):\n",
      " #   Column                      Non-Null Count   Dtype  \n",
      "---  ------                      --------------   -----  \n",
      " 0   OBJECTID                    746709 non-null  int64  \n",
      " 1   FOD_ID                      746709 non-null  int64  \n",
      " 2   FPA_ID                      746709 non-null  object \n",
      " 3   SOURCE_SYSTEM_TYPE          746709 non-null  object \n",
      " 4   SOURCE_SYSTEM               746709 non-null  object \n",
      " 5   NWCG_REPORTING_AGENCY       746709 non-null  object \n",
      " 6   NWCG_REPORTING_UNIT_ID      746709 non-null  object \n",
      " 7   NWCG_REPORTING_UNIT_NAME    746709 non-null  object \n",
      " 8   SOURCE_REPORTING_UNIT       746709 non-null  object \n",
      " 9   SOURCE_REPORTING_UNIT_NAME  746709 non-null  object \n",
      " 10  LOCAL_FIRE_REPORT_ID        118376 non-null  object \n",
      " 11  LOCAL_INCIDENT_ID           432045 non-null  object \n",
      " 12  FIRE_CODE                   92070 non-null   object \n",
      " 13  FIRE_NAME                   305330 non-null  object \n",
      " 14  ICS_209_INCIDENT_NUMBER     23620 non-null   object \n",
      " 15  ICS_209_NAME                23620 non-null   object \n",
      " 16  MTBS_ID                     10994 non-null   object \n",
      " 17  MTBS_FIRE_NAME              10994 non-null   object \n",
      " 18  COMPLEX_NAME                3827 non-null    object \n",
      " 19  FIRE_YEAR                   746709 non-null  int64  \n",
      " 20  DISCOVERY_DATE              746709 non-null  float64\n",
      " 21  DISCOVERY_DOY               746709 non-null  int64  \n",
      " 22  DISCOVERY_TIME              367546 non-null  object \n",
      " 23  STAT_CAUSE_CODE             746709 non-null  float64\n",
      " 24  STAT_CAUSE_DESCR            746709 non-null  object \n",
      " 25  CONT_DATE                   353510 non-null  float64\n",
      " 26  CONT_DOY                    353510 non-null  float64\n",
      " 27  CONT_TIME                   325419 non-null  object \n",
      " 28  FIRE_SIZE                   746709 non-null  float64\n",
      " 29  FIRE_SIZE_CLASS             746709 non-null  object \n",
      " 30  LATITUDE                    746709 non-null  float64\n",
      " 31  LONGITUDE                   746709 non-null  float64\n",
      " 32  OWNER_CODE                  746709 non-null  float64\n",
      " 33  OWNER_DESCR                 746709 non-null  object \n",
      " 34  STATE                       746709 non-null  object \n",
      " 35  COUNTY                      497130 non-null  object \n",
      " 36  FIPS_CODE                   497130 non-null  object \n",
      " 37  FIPS_NAME                   497130 non-null  object \n",
      " 38  Shape                       746709 non-null  object \n",
      "dtypes: float64(8), int64(4), object(27)\n",
      "memory usage: 227.9+ MB\n"
     ]
    }
   ],
   "source": [
    "# Restrict to fires at least an acre large\n",
    "fires_all = df[df['FIRE_SIZE'] > 1]\n",
    "fires_all.info()"
   ]
  },
  {
   "cell_type": "code",
   "execution_count": 4,
   "metadata": {},
   "outputs": [
    {
     "name": "stdout",
     "output_type": "stream",
     "text": [
      "<class 'pandas.core.frame.DataFrame'>\n",
      "Int64Index: 746709 entries, 13 to 1880463\n",
      "Data columns (total 29 columns):\n",
      " #   Column                      Non-Null Count   Dtype  \n",
      "---  ------                      --------------   -----  \n",
      " 0   OBJECTID                    746709 non-null  int64  \n",
      " 1   FOD_ID                      746709 non-null  int64  \n",
      " 2   FPA_ID                      746709 non-null  object \n",
      " 3   SOURCE_SYSTEM_TYPE          746709 non-null  object \n",
      " 4   SOURCE_SYSTEM               746709 non-null  object \n",
      " 5   NWCG_REPORTING_AGENCY       746709 non-null  object \n",
      " 6   NWCG_REPORTING_UNIT_ID      746709 non-null  object \n",
      " 7   NWCG_REPORTING_UNIT_NAME    746709 non-null  object \n",
      " 8   SOURCE_REPORTING_UNIT       746709 non-null  object \n",
      " 9   SOURCE_REPORTING_UNIT_NAME  746709 non-null  object \n",
      " 10  LOCAL_FIRE_REPORT_ID        118376 non-null  object \n",
      " 11  FIRE_NAME                   305330 non-null  object \n",
      " 12  FIRE_YEAR                   746709 non-null  int64  \n",
      " 13  DISCOVERY_DATE              746709 non-null  float64\n",
      " 14  DISCOVERY_DOY               746709 non-null  int64  \n",
      " 15  DISCOVERY_TIME              367546 non-null  object \n",
      " 16  STAT_CAUSE_CODE             746709 non-null  float64\n",
      " 17  STAT_CAUSE_DESCR            746709 non-null  object \n",
      " 18  CONT_DATE                   353510 non-null  float64\n",
      " 19  CONT_DOY                    353510 non-null  float64\n",
      " 20  CONT_TIME                   325419 non-null  object \n",
      " 21  FIRE_SIZE                   746709 non-null  float64\n",
      " 22  FIRE_SIZE_CLASS             746709 non-null  object \n",
      " 23  LATITUDE                    746709 non-null  float64\n",
      " 24  LONGITUDE                   746709 non-null  float64\n",
      " 25  OWNER_CODE                  746709 non-null  float64\n",
      " 26  OWNER_DESCR                 746709 non-null  object \n",
      " 27  STATE                       746709 non-null  object \n",
      " 28  Shape                       746709 non-null  object \n",
      "dtypes: float64(8), int64(4), object(17)\n",
      "memory usage: 170.9+ MB\n"
     ]
    }
   ],
   "source": [
    "# Drop columns with a lot of missing data\n",
    "fires = fires_all.drop(columns = ['LOCAL_INCIDENT_ID', 'FIRE_CODE', 'ICS_209_INCIDENT_NUMBER',\n",
    "                                 'ICS_209_NAME', 'MTBS_ID', 'MTBS_FIRE_NAME', 'COMPLEX_NAME',\n",
    "                                 'COUNTY', 'FIPS_CODE', 'FIPS_NAME'])\n",
    "fires.info()"
   ]
  },
  {
   "cell_type": "code",
   "execution_count": 5,
   "metadata": {},
   "outputs": [],
   "source": [
    "import pickle\n",
    "with open('More_Than_1Acre.pickle', 'wb') as to_write:\n",
    "        pickle.dump(fires, to_write)"
   ]
  },
  {
   "cell_type": "code",
   "execution_count": null,
   "metadata": {},
   "outputs": [],
   "source": [
    "with open('More_Than_1Acre.pickle','rb') as read_file:\n",
    "    fires = pickle.load(read_file)"
   ]
  },
  {
   "cell_type": "code",
   "execution_count": 29,
   "metadata": {},
   "outputs": [
    {
     "data": {
      "text/plain": [
       "B    472539\n",
       "C    220077\n",
       "D     28427\n",
       "E     14107\n",
       "F      7786\n",
       "G      3773\n",
       "Name: FIRE_SIZE_CLASS, dtype: int64"
      ]
     },
     "execution_count": 29,
     "metadata": {},
     "output_type": "execute_result"
    }
   ],
   "source": [
    "fires['FIRE_SIZE_CLASS'].value_counts()"
   ]
  },
  {
   "cell_type": "code",
   "execution_count": 30,
   "metadata": {},
   "outputs": [],
   "source": [
    "fires['FIRE_SIZE_CLASS_BIN'] = np.where(fires['FIRE_SIZE_CLASS'].isin(['B']), 0, 1)"
   ]
  },
  {
   "cell_type": "code",
   "execution_count": 31,
   "metadata": {},
   "outputs": [
    {
     "data": {
      "text/plain": [
       "GA    74555\n",
       "TX    73300\n",
       "MS    55729\n",
       "FL    48202\n",
       "AL    44588\n",
       "SC    43719\n",
       "CA    39563\n",
       "NC    35088\n",
       "OK    32655\n",
       "AR    21808\n",
       "KY    20343\n",
       "LA    20304\n",
       "TN    18277\n",
       "NY    17242\n",
       "MN    16256\n",
       "AZ    15342\n",
       "NM    12313\n",
       "MO    12242\n",
       "SD    10470\n",
       "PR    10185\n",
       "WV    10027\n",
       "ID     9976\n",
       "MT     9914\n",
       "OR     8997\n",
       "VA     8778\n",
       "WA     7106\n",
       "UT     7053\n",
       "WI     6598\n",
       "ND     6203\n",
       "CO     5034\n",
       "NV     5019\n",
       "WY     4771\n",
       "MI     4504\n",
       "AK     4326\n",
       "NE     3838\n",
       "KS     3525\n",
       "PA     3137\n",
       "NJ     3104\n",
       "IA     2554\n",
       "ME     2450\n",
       "OH     1454\n",
       "HI     1222\n",
       "IL     1036\n",
       "MD      987\n",
       "CT      986\n",
       "NH      682\n",
       "IN      639\n",
       "MA      284\n",
       "VT      160\n",
       "RI      105\n",
       "DE       52\n",
       "DC        7\n",
       "Name: STATE, dtype: int64"
      ]
     },
     "execution_count": 31,
     "metadata": {},
     "output_type": "execute_result"
    }
   ],
   "source": [
    "fires['STATE'].value_counts()"
   ]
  },
  {
   "cell_type": "code",
   "execution_count": 32,
   "metadata": {},
   "outputs": [],
   "source": [
    "# NOAA climate regions\n",
    "fires['REGION'] = np.where(fires['STATE'].isin(['WA', 'OR', 'ID']), 'Northwest', \n",
    "                  np.where(fires['STATE'].isin(['CA', 'NV']), 'West', \n",
    "                  np.where(fires['STATE'].isin(['MT', 'NE', 'ND', 'SD', 'WY']), 'Northern Rockies', \n",
    "                  np.where(fires['STATE'].isin(['AK', 'HI']), 'Alaska_Hawaii', \n",
    "                  np.where(fires['STATE'].isin(['AZ', 'NM', 'CO', 'UT']), 'Southwest',          \n",
    "                  np.where(fires['STATE'].isin(['OK', 'TX', 'KS', 'AR', 'LA', 'MS']), 'South', \n",
    "                  np.where(fires['STATE'].isin(['AL', 'FL', 'GA', 'NC', 'SC', 'VA']), 'Southeast', \n",
    "                  np.where(fires['STATE'].isin(['IL', 'IN', 'KY', 'MO', 'TN', 'OH', 'WV']), 'Ohio Valley', \n",
    "                  np.where(fires['STATE'].isin(['IA',  'MI', 'MN', 'WI']), 'Upper Midwest', \n",
    "                  np.where(fires['STATE'].isin(['CT', 'NY', 'ME', 'MA', 'MD', 'NH', 'NJ', 'PA', 'RI', 'VT', 'DE']), 'Northeast', 'None'        \n",
    "                                  ))))))))))"
   ]
  },
  {
   "cell_type": "code",
   "execution_count": 33,
   "metadata": {},
   "outputs": [
    {
     "data": {
      "text/plain": [
       "Southeast           254930\n",
       "South               207321\n",
       "Ohio Valley          64018\n",
       "West                 44582\n",
       "Southwest            39742\n",
       "Northern Rockies     35196\n",
       "Upper Midwest        29912\n",
       "Northeast            29189\n",
       "Northwest            26079\n",
       "None                 10192\n",
       "Alaska_Hawaii         5548\n",
       "Name: REGION, dtype: int64"
      ]
     },
     "execution_count": 33,
     "metadata": {},
     "output_type": "execute_result"
    }
   ],
   "source": [
    "fires['REGION'].value_counts()"
   ]
  },
  {
   "cell_type": "code",
   "execution_count": 34,
   "metadata": {},
   "outputs": [],
   "source": [
    "from sklearn.model_selection import train_test_split\n",
    "\n",
    "fires_train, fires_test = train_test_split(fires, test_size=0.2, random_state=42)"
   ]
  },
  {
   "cell_type": "code",
   "execution_count": null,
   "metadata": {},
   "outputs": [],
   "source": [
    "data_crosstab = pd.crosstab(fires_train['STAT_CAUSE_DESC'], \n",
    "                            fires_train['FIRE_SIZE_CLASS_BIN'],  \n",
    "                               margins = False, normalize = 'index') \n",
    "print(data_crosstab) "
   ]
  },
  {
   "cell_type": "code",
   "execution_count": null,
   "metadata": {},
   "outputs": [],
   "source": [
    "# Box and whisker plot of fire size by cause "
   ]
  },
  {
   "cell_type": "code",
   "execution_count": 1,
   "metadata": {},
   "outputs": [
    {
     "ename": "NameError",
     "evalue": "name 'pd' is not defined",
     "output_type": "error",
     "traceback": [
      "\u001b[0;31m---------------------------------------------------------------------------\u001b[0m",
      "\u001b[0;31mNameError\u001b[0m                                 Traceback (most recent call last)",
      "\u001b[0;32m<ipython-input-1-695e55747607>\u001b[0m in \u001b[0;36m<module>\u001b[0;34m\u001b[0m\n\u001b[0;32m----> 1\u001b[0;31m data_crosstab = pd.crosstab(fires_train['REGION'], \n\u001b[0m\u001b[1;32m      2\u001b[0m                             \u001b[0mfires_train\u001b[0m\u001b[0;34m[\u001b[0m\u001b[0;34m'FIRE_SIZE_CLASS_BIN'\u001b[0m\u001b[0;34m]\u001b[0m\u001b[0;34m,\u001b[0m\u001b[0;34m\u001b[0m\u001b[0;34m\u001b[0m\u001b[0m\n\u001b[1;32m      3\u001b[0m                                margins = False, normalize = 'index') \n\u001b[1;32m      4\u001b[0m \u001b[0mprint\u001b[0m\u001b[0;34m(\u001b[0m\u001b[0mdata_crosstab\u001b[0m\u001b[0;34m)\u001b[0m\u001b[0;34m\u001b[0m\u001b[0;34m\u001b[0m\u001b[0m\n",
      "\u001b[0;31mNameError\u001b[0m: name 'pd' is not defined"
     ]
    }
   ],
   "source": [
    "data_crosstab = pd.crosstab(fires_train['REGION'], \n",
    "                            fires_train['FIRE_SIZE_CLASS_BIN'],  \n",
    "                               margins = False, normalize = 'index') \n",
    "print(data_crosstab) "
   ]
  },
  {
   "cell_type": "code",
   "execution_count": null,
   "metadata": {},
   "outputs": [],
   "source": [
    "# Box and whisker plot of fire size by region"
   ]
  },
  {
   "cell_type": "code",
   "execution_count": null,
   "metadata": {},
   "outputs": [],
   "source": [
    "sns.scatterplot(data=combined_df, x='DAYS_TO_CONTAIN', y='FIRE_SIZE', marker='o', s=25);"
   ]
  },
  {
   "cell_type": "code",
   "execution_count": null,
   "metadata": {},
   "outputs": [],
   "source": [
    "# One hot encoding fire cause\n",
    "\n",
    "fires_train.sort_values(by='STAT_CAUSE_DESCR', inplace = True)\n",
    "\n",
    "cat = fires_train.loc[:, ['STAT_CAUSE_DESCR']]\n",
    "\n",
    "ohe = OneHotEncoder(drop= 'first', sparse=False)\n",
    "\n",
    "ohe.fit(cat)\n",
    "ohe_X = ohe.transform(cat)\n",
    "columns = ohe.get_feature_names(['STAT_CAUSE_DESCR'])\n",
    "ohe_X_df = pd.DataFrame(ohe_X, columns = columns, index=cat.index)\n",
    "combined_df = pd.concat([fires_train, ohe_X_df], axis=1)\n",
    "combined_df.info()"
   ]
  },
  {
   "cell_type": "code",
   "execution_count": null,
   "metadata": {},
   "outputs": [],
   "source": [
    "# Creating new date variables\n",
    "combined_df['DAYS_TO_CONTAIN'] = combined_df['CONT_DATE'] - combined_df['DISCOVERY_DATE'] \n",
    "combined_df['DAYS_TO_CONTAIN'] = combined_df['DAYS_TO_CONTAIN'].fillna(0)\n",
    "combined_df['DISCOVERY_DATE_DT'] = pd.to_datetime(combined_df['DISCOVERY_DATE'], unit='D', origin='julian')\n",
    "combined_df['CONT_DATE_DT'] = pd.to_datetime(combined_df['CONT_DATE'], unit='D', origin='julian')"
   ]
  },
  {
   "cell_type": "code",
   "execution_count": null,
   "metadata": {},
   "outputs": [],
   "source": []
  },
  {
   "cell_type": "code",
   "execution_count": null,
   "metadata": {},
   "outputs": [],
   "source": []
  },
  {
   "cell_type": "code",
   "execution_count": null,
   "metadata": {},
   "outputs": [],
   "source": []
  },
  {
   "cell_type": "code",
   "execution_count": null,
   "metadata": {},
   "outputs": [],
   "source": []
  },
  {
   "cell_type": "code",
   "execution_count": null,
   "metadata": {},
   "outputs": [],
   "source": []
  },
  {
   "cell_type": "code",
   "execution_count": null,
   "metadata": {},
   "outputs": [],
   "source": []
  }
 ],
 "metadata": {
  "kernelspec": {
   "display_name": "Python 3",
   "language": "python",
   "name": "python3"
  },
  "language_info": {
   "codemirror_mode": {
    "name": "ipython",
    "version": 3
   },
   "file_extension": ".py",
   "mimetype": "text/x-python",
   "name": "python",
   "nbconvert_exporter": "python",
   "pygments_lexer": "ipython3",
   "version": "3.8.5"
  }
 },
 "nbformat": 4,
 "nbformat_minor": 4
}
