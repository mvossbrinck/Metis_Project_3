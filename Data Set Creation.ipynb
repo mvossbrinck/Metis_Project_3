{
 "cells": [
  {
   "cell_type": "code",
   "execution_count": 1,
   "metadata": {},
   "outputs": [
    {
     "name": "stdout",
     "output_type": "stream",
     "text": [
      "0\n"
     ]
    }
   ],
   "source": [
    "# Import packages and connect to database\n",
    "import sqlite3\n",
    "import pandas as pd\n",
    "import numpy as np\n",
    "import scipy.stats as st\n",
    "import matplotlib.pyplot as plt\n",
    "import seaborn as sns\n",
    "import datetime\n",
    "\n",
    "conn = sqlite3.connect(\"Wildfires.sqlite\")\n",
    "print(conn.total_changes)"
   ]
  },
  {
   "cell_type": "code",
   "execution_count": 2,
   "metadata": {},
   "outputs": [
    {
     "name": "stdout",
     "output_type": "stream",
     "text": [
      "<class 'pandas.core.frame.DataFrame'>\n",
      "RangeIndex: 1880465 entries, 0 to 1880464\n",
      "Data columns (total 39 columns):\n",
      " #   Column                      Dtype  \n",
      "---  ------                      -----  \n",
      " 0   OBJECTID                    int64  \n",
      " 1   FOD_ID                      int64  \n",
      " 2   FPA_ID                      object \n",
      " 3   SOURCE_SYSTEM_TYPE          object \n",
      " 4   SOURCE_SYSTEM               object \n",
      " 5   NWCG_REPORTING_AGENCY       object \n",
      " 6   NWCG_REPORTING_UNIT_ID      object \n",
      " 7   NWCG_REPORTING_UNIT_NAME    object \n",
      " 8   SOURCE_REPORTING_UNIT       object \n",
      " 9   SOURCE_REPORTING_UNIT_NAME  object \n",
      " 10  LOCAL_FIRE_REPORT_ID        object \n",
      " 11  LOCAL_INCIDENT_ID           object \n",
      " 12  FIRE_CODE                   object \n",
      " 13  FIRE_NAME                   object \n",
      " 14  ICS_209_INCIDENT_NUMBER     object \n",
      " 15  ICS_209_NAME                object \n",
      " 16  MTBS_ID                     object \n",
      " 17  MTBS_FIRE_NAME              object \n",
      " 18  COMPLEX_NAME                object \n",
      " 19  FIRE_YEAR                   int64  \n",
      " 20  DISCOVERY_DATE              float64\n",
      " 21  DISCOVERY_DOY               int64  \n",
      " 22  DISCOVERY_TIME              object \n",
      " 23  STAT_CAUSE_CODE             float64\n",
      " 24  STAT_CAUSE_DESCR            object \n",
      " 25  CONT_DATE                   float64\n",
      " 26  CONT_DOY                    float64\n",
      " 27  CONT_TIME                   object \n",
      " 28  FIRE_SIZE                   float64\n",
      " 29  FIRE_SIZE_CLASS             object \n",
      " 30  LATITUDE                    float64\n",
      " 31  LONGITUDE                   float64\n",
      " 32  OWNER_CODE                  float64\n",
      " 33  OWNER_DESCR                 object \n",
      " 34  STATE                       object \n",
      " 35  COUNTY                      object \n",
      " 36  FIPS_CODE                   object \n",
      " 37  FIPS_NAME                   object \n",
      " 38  Shape                       object \n",
      "dtypes: float64(8), int64(4), object(27)\n",
      "memory usage: 559.5+ MB\n"
     ]
    }
   ],
   "source": [
    "# Read in Data\n",
    "df = pd.read_sql_query(\"SELECT * FROM Fires;\", conn)\n",
    "df.info()"
   ]
  },
  {
   "cell_type": "code",
   "execution_count": 24,
   "metadata": {},
   "outputs": [
    {
     "name": "stdout",
     "output_type": "stream",
     "text": [
      "<class 'pandas.core.frame.DataFrame'>\n",
      "Int64Index: 1308317 entries, 0 to 1880464\n",
      "Data columns (total 39 columns):\n",
      " #   Column                      Non-Null Count    Dtype  \n",
      "---  ------                      --------------    -----  \n",
      " 0   OBJECTID                    1308317 non-null  int64  \n",
      " 1   FOD_ID                      1308317 non-null  int64  \n",
      " 2   FPA_ID                      1308317 non-null  object \n",
      " 3   SOURCE_SYSTEM_TYPE          1308317 non-null  object \n",
      " 4   SOURCE_SYSTEM               1308317 non-null  object \n",
      " 5   NWCG_REPORTING_AGENCY       1308317 non-null  object \n",
      " 6   NWCG_REPORTING_UNIT_ID      1308317 non-null  object \n",
      " 7   NWCG_REPORTING_UNIT_NAME    1308317 non-null  object \n",
      " 8   SOURCE_REPORTING_UNIT       1308317 non-null  object \n",
      " 9   SOURCE_REPORTING_UNIT_NAME  1308317 non-null  object \n",
      " 10  LOCAL_FIRE_REPORT_ID        284168 non-null   object \n",
      " 11  LOCAL_INCIDENT_ID           762425 non-null   object \n",
      " 12  FIRE_CODE                   276762 non-null   object \n",
      " 13  FIRE_NAME                   704705 non-null   object \n",
      " 14  ICS_209_INCIDENT_NUMBER     24872 non-null    object \n",
      " 15  ICS_209_NAME                24872 non-null    object \n",
      " 16  MTBS_ID                     8393 non-null     object \n",
      " 17  MTBS_FIRE_NAME              8393 non-null     object \n",
      " 18  COMPLEX_NAME                4639 non-null     object \n",
      " 19  FIRE_YEAR                   1308317 non-null  int64  \n",
      " 20  DISCOVERY_DATE              1308317 non-null  float64\n",
      " 21  DISCOVERY_DOY               1308317 non-null  int64  \n",
      " 22  DISCOVERY_TIME              703010 non-null   object \n",
      " 23  STAT_CAUSE_CODE             1308317 non-null  float64\n",
      " 24  STAT_CAUSE_DESCR            1308317 non-null  object \n",
      " 25  CONT_DATE                   678456 non-null   float64\n",
      " 26  CONT_DOY                    678456 non-null   float64\n",
      " 27  CONT_TIME                   626964 non-null   object \n",
      " 28  FIRE_SIZE                   1308317 non-null  float64\n",
      " 29  FIRE_SIZE_CLASS             1308317 non-null  object \n",
      " 30  LATITUDE                    1308317 non-null  float64\n",
      " 31  LONGITUDE                   1308317 non-null  float64\n",
      " 32  OWNER_CODE                  1308317 non-null  float64\n",
      " 33  OWNER_DESCR                 1308317 non-null  object \n",
      " 34  STATE                       1308317 non-null  object \n",
      " 35  COUNTY                      935950 non-null   object \n",
      " 36  FIPS_CODE                   935950 non-null   object \n",
      " 37  FIPS_NAME                   935950 non-null   object \n",
      " 38  Shape                       1308317 non-null  object \n",
      "dtypes: float64(8), int64(4), object(27)\n",
      "memory usage: 399.3+ MB\n"
     ]
    }
   ],
   "source": [
    "# Only look at fires from 2000 or later\n",
    "fires_all = df[df['FIRE_YEAR'] >= 2000]\n",
    "fires_all.info()"
   ]
  },
  {
   "cell_type": "code",
   "execution_count": 25,
   "metadata": {},
   "outputs": [
    {
     "name": "stdout",
     "output_type": "stream",
     "text": [
      "<class 'pandas.core.frame.DataFrame'>\n",
      "Int64Index: 1308317 entries, 0 to 1880464\n",
      "Data columns (total 26 columns):\n",
      " #   Column                      Non-Null Count    Dtype  \n",
      "---  ------                      --------------    -----  \n",
      " 0   OBJECTID                    1308317 non-null  int64  \n",
      " 1   SOURCE_SYSTEM_TYPE          1308317 non-null  object \n",
      " 2   SOURCE_SYSTEM               1308317 non-null  object \n",
      " 3   NWCG_REPORTING_AGENCY       1308317 non-null  object \n",
      " 4   NWCG_REPORTING_UNIT_ID      1308317 non-null  object \n",
      " 5   NWCG_REPORTING_UNIT_NAME    1308317 non-null  object \n",
      " 6   SOURCE_REPORTING_UNIT       1308317 non-null  object \n",
      " 7   SOURCE_REPORTING_UNIT_NAME  1308317 non-null  object \n",
      " 8   FIRE_NAME                   704705 non-null   object \n",
      " 9   FIRE_YEAR                   1308317 non-null  int64  \n",
      " 10  DISCOVERY_DATE              1308317 non-null  float64\n",
      " 11  DISCOVERY_DOY               1308317 non-null  int64  \n",
      " 12  DISCOVERY_TIME              703010 non-null   object \n",
      " 13  STAT_CAUSE_CODE             1308317 non-null  float64\n",
      " 14  STAT_CAUSE_DESCR            1308317 non-null  object \n",
      " 15  CONT_DATE                   678456 non-null   float64\n",
      " 16  CONT_DOY                    678456 non-null   float64\n",
      " 17  CONT_TIME                   626964 non-null   object \n",
      " 18  FIRE_SIZE                   1308317 non-null  float64\n",
      " 19  FIRE_SIZE_CLASS             1308317 non-null  object \n",
      " 20  LATITUDE                    1308317 non-null  float64\n",
      " 21  LONGITUDE                   1308317 non-null  float64\n",
      " 22  OWNER_CODE                  1308317 non-null  float64\n",
      " 23  OWNER_DESCR                 1308317 non-null  object \n",
      " 24  STATE                       1308317 non-null  object \n",
      " 25  Shape                       1308317 non-null  object \n",
      "dtypes: float64(8), int64(3), object(15)\n",
      "memory usage: 269.5+ MB\n"
     ]
    }
   ],
   "source": [
    "# Drop columns with a lot of missing data\n",
    "fires = fires_all.drop(columns = ['FOD_ID', 'FPA_ID', 'LOCAL_FIRE_REPORT_ID', \n",
    "                                'LOCAL_INCIDENT_ID', 'FIRE_CODE', \n",
    "                                'ICS_209_INCIDENT_NUMBER','ICS_209_NAME', \n",
    "                                'MTBS_ID', 'MTBS_FIRE_NAME', 'COMPLEX_NAME',\n",
    "                                 'COUNTY', 'FIPS_CODE', 'FIPS_NAME'])\n",
    "fires.info()"
   ]
  },
  {
   "cell_type": "code",
   "execution_count": 26,
   "metadata": {},
   "outputs": [],
   "source": [
    "# Creating new date variables\n",
    "fires['DAYS_TO_CONTAIN'] = fires['CONT_DATE'] - fires['DISCOVERY_DATE'] \n",
    "fires['DAYS_TO_CONTAIN'] = fires['DAYS_TO_CONTAIN'].fillna(0)\n",
    "fires['DISCOVERY_DATE_D'] = pd.to_datetime(fires['DISCOVERY_DATE'], unit='D', origin='julian')\n",
    "fires['CONT_DATE_D'] = pd.to_datetime(fires['CONT_DATE'], unit='D', origin='julian')"
   ]
  },
  {
   "cell_type": "code",
   "execution_count": 27,
   "metadata": {},
   "outputs": [],
   "source": [
    "# NOAA climate regions\n",
    "fires['REGION'] = np.where(fires['STATE'].isin(['WA', 'OR', 'ID']), 'Northwest', \n",
    "                  np.where(fires['STATE'].isin(['CA', 'NV']), 'West', \n",
    "                  np.where(fires['STATE'].isin(['MT', 'NE', 'ND', 'SD', 'WY']), 'Northern Rockies', \n",
    "                  np.where(fires['STATE'].isin(['AK']), 'Alaska', \n",
    "                  np.where(fires['STATE'].isin(['AZ', 'NM', 'CO', 'UT']), 'Southwest',          \n",
    "                  np.where(fires['STATE'].isin(['OK', 'TX', 'KS', 'AR', 'LA', 'MS']), 'South', \n",
    "                  np.where(fires['STATE'].isin(['AL', 'FL', 'GA', 'NC', 'SC', 'VA']), 'Southeast', \n",
    "                  np.where(fires['STATE'].isin(['IL', 'IN', 'KY', 'MO', 'TN', 'OH', 'WV']), 'Ohio Valley', \n",
    "                  np.where(fires['STATE'].isin(['IA',  'MI', 'MN', 'WI']), 'Upper Midwest', \n",
    "                  np.where(fires['STATE'].isin(['CT', 'NY', 'ME', 'MA', 'MD', 'NH', 'NJ', 'PA', 'RI', 'VT', 'DE']), 'Northeast', 'Other'        \n",
    "                                  ))))))))))"
   ]
  },
  {
   "cell_type": "code",
   "execution_count": 7,
   "metadata": {},
   "outputs": [],
   "source": [
    "fires.to_csv('Fires_During_After_2000.csv')"
   ]
  },
  {
   "cell_type": "code",
   "execution_count": 41,
   "metadata": {},
   "outputs": [
    {
     "name": "stderr",
     "output_type": "stream",
     "text": [
      "<ipython-input-41-a0fa4f1b2ed3>:4: UserWarning: Boolean Series key will be reindexed to match DataFrame index.\n",
      "  fires_cont = fires_time[ fires_time['CONT_TIME'].notna() & (fires['CONT_TIME']!=u'')]\n"
     ]
    },
    {
     "name": "stdout",
     "output_type": "stream",
     "text": [
      "<class 'pandas.core.frame.DataFrame'>\n",
      "Int64Index: 623178 entries, 0 to 1880460\n",
      "Data columns (total 30 columns):\n",
      " #   Column                      Non-Null Count   Dtype         \n",
      "---  ------                      --------------   -----         \n",
      " 0   OBJECTID                    623178 non-null  int64         \n",
      " 1   SOURCE_SYSTEM_TYPE          623178 non-null  object        \n",
      " 2   SOURCE_SYSTEM               623178 non-null  object        \n",
      " 3   NWCG_REPORTING_AGENCY       623178 non-null  object        \n",
      " 4   NWCG_REPORTING_UNIT_ID      623178 non-null  object        \n",
      " 5   NWCG_REPORTING_UNIT_NAME    623178 non-null  object        \n",
      " 6   SOURCE_REPORTING_UNIT       623178 non-null  object        \n",
      " 7   SOURCE_REPORTING_UNIT_NAME  623178 non-null  object        \n",
      " 8   FIRE_NAME                   493876 non-null  object        \n",
      " 9   FIRE_YEAR                   623178 non-null  int64         \n",
      " 10  DISCOVERY_DATE              623178 non-null  float64       \n",
      " 11  DISCOVERY_DOY               623178 non-null  int64         \n",
      " 12  DISCOVERY_TIME              623178 non-null  object        \n",
      " 13  STAT_CAUSE_CODE             623178 non-null  float64       \n",
      " 14  STAT_CAUSE_DESCR            623178 non-null  object        \n",
      " 15  CONT_DATE                   623178 non-null  float64       \n",
      " 16  CONT_DOY                    623178 non-null  float64       \n",
      " 17  CONT_TIME                   623178 non-null  object        \n",
      " 18  FIRE_SIZE                   623178 non-null  float64       \n",
      " 19  FIRE_SIZE_CLASS             623178 non-null  object        \n",
      " 20  LATITUDE                    623178 non-null  float64       \n",
      " 21  LONGITUDE                   623178 non-null  float64       \n",
      " 22  OWNER_CODE                  623178 non-null  float64       \n",
      " 23  OWNER_DESCR                 623178 non-null  object        \n",
      " 24  STATE                       623178 non-null  object        \n",
      " 25  Shape                       623178 non-null  object        \n",
      " 26  DAYS_TO_CONTAIN             623178 non-null  float64       \n",
      " 27  DISCOVERY_DATE_D            623178 non-null  datetime64[ns]\n",
      " 28  CONT_DATE_D                 623178 non-null  datetime64[ns]\n",
      " 29  REGION                      623178 non-null  object        \n",
      "dtypes: datetime64[ns](2), float64(9), int64(3), object(16)\n",
      "memory usage: 147.4+ MB\n"
     ]
    }
   ],
   "source": [
    "fires_time = fires[ fires['DISCOVERY_TIME'].notna() & (fires['DISCOVERY_TIME']!=u'')]\n",
    "fires_cont = fires_time[ fires_time['CONT_TIME'].notna() & (fires['CONT_TIME']!=u'')]\n",
    "fires_cont.info()\n"
   ]
  },
  {
   "cell_type": "code",
   "execution_count": 42,
   "metadata": {},
   "outputs": [
    {
     "name": "stderr",
     "output_type": "stream",
     "text": [
      "<ipython-input-42-767df54cf51d>:1: SettingWithCopyWarning: \n",
      "A value is trying to be set on a copy of a slice from a DataFrame.\n",
      "Try using .loc[row_indexer,col_indexer] = value instead\n",
      "\n",
      "See the caveats in the documentation: https://pandas.pydata.org/pandas-docs/stable/user_guide/indexing.html#returning-a-view-versus-a-copy\n",
      "  fires_cont['DISCOVERY_HOUR'] = fires_cont['DISCOVERY_TIME'].astype(str).str[:-2]\n",
      "<ipython-input-42-767df54cf51d>:2: SettingWithCopyWarning: \n",
      "A value is trying to be set on a copy of a slice from a DataFrame.\n",
      "Try using .loc[row_indexer,col_indexer] = value instead\n",
      "\n",
      "See the caveats in the documentation: https://pandas.pydata.org/pandas-docs/stable/user_guide/indexing.html#returning-a-view-versus-a-copy\n",
      "  fires_cont['DISCOVERY_MIN'] = fires_cont['DISCOVERY_TIME'].astype(str).str[-2:]\n",
      "<ipython-input-42-767df54cf51d>:3: SettingWithCopyWarning: \n",
      "A value is trying to be set on a copy of a slice from a DataFrame.\n",
      "Try using .loc[row_indexer,col_indexer] = value instead\n",
      "\n",
      "See the caveats in the documentation: https://pandas.pydata.org/pandas-docs/stable/user_guide/indexing.html#returning-a-view-versus-a-copy\n",
      "  fires_cont['CONT_HOUR'] = fires_cont['CONT_TIME'].astype(str).str[:-2]\n",
      "<ipython-input-42-767df54cf51d>:4: SettingWithCopyWarning: \n",
      "A value is trying to be set on a copy of a slice from a DataFrame.\n",
      "Try using .loc[row_indexer,col_indexer] = value instead\n",
      "\n",
      "See the caveats in the documentation: https://pandas.pydata.org/pandas-docs/stable/user_guide/indexing.html#returning-a-view-versus-a-copy\n",
      "  fires_cont['CONT_MIN'] = fires_cont['CONT_TIME'].astype(str).str[-2:].str.strip()\n"
     ]
    },
    {
     "data": {
      "text/plain": [
       "00    153827\n",
       "30     79190\n",
       "45     30145\n",
       "15     26571\n",
       "20     16742\n",
       "50     16237\n",
       "40     15432\n",
       "10     15127\n",
       "35     11575\n",
       "25     11240\n",
       "55     10742\n",
       "05     10503\n",
       "59      6684\n",
       "48      5206\n",
       "08      5204\n",
       "58      5087\n",
       "07      5003\n",
       "12      4994\n",
       "42      4988\n",
       "02      4983\n",
       "01      4939\n",
       "18      4913\n",
       "28      4896\n",
       "22      4888\n",
       "32      4879\n",
       "38      4873\n",
       "36      4736\n",
       "24      4706\n",
       "06      4694\n",
       "43      4687\n",
       "16      4683\n",
       "52      4677\n",
       "03      4649\n",
       "47      4646\n",
       "53      4636\n",
       "56      4625\n",
       "46      4619\n",
       "04      4603\n",
       "26      4600\n",
       "17      4597\n",
       "37      4588\n",
       "14      4583\n",
       "23      4568\n",
       "27      4529\n",
       "33      4526\n",
       "44      4500\n",
       "09      4496\n",
       "13      4489\n",
       "34      4477\n",
       "57      4468\n",
       "31      4464\n",
       "54      4462\n",
       "29      4461\n",
       "11      4424\n",
       "21      4411\n",
       "51      4387\n",
       "49      4386\n",
       "39      4366\n",
       "41      4296\n",
       "19      4271\n",
       "Name: CONT_MIN, dtype: int64"
      ]
     },
     "execution_count": 42,
     "metadata": {},
     "output_type": "execute_result"
    }
   ],
   "source": [
    "fires_cont['DISCOVERY_HOUR'] = fires_cont['DISCOVERY_TIME'].astype(str).str[:-2]\n",
    "fires_cont['DISCOVERY_MIN'] = fires_cont['DISCOVERY_TIME'].astype(str).str[-2:]\n",
    "fires_cont['CONT_HOUR'] = fires_cont['CONT_TIME'].astype(str).str[:-2]\n",
    "fires_cont['CONT_MIN'] = fires_cont['CONT_TIME'].astype(str).str[-2:].str.strip()"
   ]
  },
  {
   "cell_type": "code",
   "execution_count": null,
   "metadata": {},
   "outputs": [],
   "source": []
  },
  {
   "cell_type": "code",
   "execution_count": 49,
   "metadata": {},
   "outputs": [
    {
     "name": "stderr",
     "output_type": "stream",
     "text": [
      "<ipython-input-49-14bd2bdc801b>:1: SettingWithCopyWarning: \n",
      "A value is trying to be set on a copy of a slice from a DataFrame.\n",
      "Try using .loc[row_indexer,col_indexer] = value instead\n",
      "\n",
      "See the caveats in the documentation: https://pandas.pydata.org/pandas-docs/stable/user_guide/indexing.html#returning-a-view-versus-a-copy\n",
      "  fires_cont['DISCOVERY_TIME_NEW'] = (pd.to_datetime(fires_cont['DISCOVERY_HOUR'].astype(str) + ':' + fires_cont['DISCOVERY_MIN'].astype(str), format='%H:%M'))\n",
      "<ipython-input-49-14bd2bdc801b>:2: SettingWithCopyWarning: \n",
      "A value is trying to be set on a copy of a slice from a DataFrame.\n",
      "Try using .loc[row_indexer,col_indexer] = value instead\n",
      "\n",
      "See the caveats in the documentation: https://pandas.pydata.org/pandas-docs/stable/user_guide/indexing.html#returning-a-view-versus-a-copy\n",
      "  fires_cont['CONT_TIME_NEW'] = (pd.to_datetime(fires_cont['CONT_HOUR'].astype(str) + ':' + fires_cont['CONT_MIN'].astype(str), format='%H:%M'))\n"
     ]
    },
    {
     "name": "stdout",
     "output_type": "stream",
     "text": [
      "<class 'pandas.core.frame.DataFrame'>\n",
      "Int64Index: 623178 entries, 0 to 1880460\n",
      "Data columns (total 36 columns):\n",
      " #   Column                      Non-Null Count   Dtype         \n",
      "---  ------                      --------------   -----         \n",
      " 0   OBJECTID                    623178 non-null  int64         \n",
      " 1   SOURCE_SYSTEM_TYPE          623178 non-null  object        \n",
      " 2   SOURCE_SYSTEM               623178 non-null  object        \n",
      " 3   NWCG_REPORTING_AGENCY       623178 non-null  object        \n",
      " 4   NWCG_REPORTING_UNIT_ID      623178 non-null  object        \n",
      " 5   NWCG_REPORTING_UNIT_NAME    623178 non-null  object        \n",
      " 6   SOURCE_REPORTING_UNIT       623178 non-null  object        \n",
      " 7   SOURCE_REPORTING_UNIT_NAME  623178 non-null  object        \n",
      " 8   FIRE_NAME                   493876 non-null  object        \n",
      " 9   FIRE_YEAR                   623178 non-null  int64         \n",
      " 10  DISCOVERY_DATE              623178 non-null  float64       \n",
      " 11  DISCOVERY_DOY               623178 non-null  int64         \n",
      " 12  DISCOVERY_TIME              623178 non-null  object        \n",
      " 13  STAT_CAUSE_CODE             623178 non-null  float64       \n",
      " 14  STAT_CAUSE_DESCR            623178 non-null  object        \n",
      " 15  CONT_DATE                   623178 non-null  float64       \n",
      " 16  CONT_DOY                    623178 non-null  float64       \n",
      " 17  CONT_TIME                   623178 non-null  object        \n",
      " 18  FIRE_SIZE                   623178 non-null  float64       \n",
      " 19  FIRE_SIZE_CLASS             623178 non-null  object        \n",
      " 20  LATITUDE                    623178 non-null  float64       \n",
      " 21  LONGITUDE                   623178 non-null  float64       \n",
      " 22  OWNER_CODE                  623178 non-null  float64       \n",
      " 23  OWNER_DESCR                 623178 non-null  object        \n",
      " 24  STATE                       623178 non-null  object        \n",
      " 25  Shape                       623178 non-null  object        \n",
      " 26  DAYS_TO_CONTAIN             623178 non-null  float64       \n",
      " 27  DISCOVERY_DATE_D            623178 non-null  datetime64[ns]\n",
      " 28  CONT_DATE_D                 623178 non-null  datetime64[ns]\n",
      " 29  REGION                      623178 non-null  object        \n",
      " 30  DISCOVERY_HOUR              623178 non-null  object        \n",
      " 31  DISCOVERY_MIN               623178 non-null  object        \n",
      " 32  CONT_HOUR                   623178 non-null  object        \n",
      " 33  CONT_MIN                    623178 non-null  object        \n",
      " 34  DISCOVERY_TIME_NEW          623178 non-null  datetime64[ns]\n",
      " 35  CONT_TIME_NEW               623178 non-null  datetime64[ns]\n",
      "dtypes: datetime64[ns](4), float64(9), int64(3), object(20)\n",
      "memory usage: 175.9+ MB\n"
     ]
    }
   ],
   "source": [
    "fires_cont['DISCOVERY_TIME_NEW'] = (pd.to_datetime(fires_cont['DISCOVERY_HOUR'].astype(str) + ':' + fires_cont['DISCOVERY_MIN'].astype(str), format='%H:%M'))\n",
    "fires_cont['CONT_TIME_NEW'] = (pd.to_datetime(fires_cont['CONT_HOUR'].astype(str) + ':' + fires_cont['CONT_MIN'].astype(str), format='%H:%M'))\n",
    "fires_cont.info()\n"
   ]
  },
  {
   "cell_type": "code",
   "execution_count": 58,
   "metadata": {},
   "outputs": [
    {
     "name": "stderr",
     "output_type": "stream",
     "text": [
      "<ipython-input-58-f11df8c406a8>:1: SettingWithCopyWarning: \n",
      "A value is trying to be set on a copy of a slice from a DataFrame.\n",
      "Try using .loc[row_indexer,col_indexer] = value instead\n",
      "\n",
      "See the caveats in the documentation: https://pandas.pydata.org/pandas-docs/stable/user_guide/indexing.html#returning-a-view-versus-a-copy\n",
      "  fires_cont['DISCOVERY_DATE_DT'] = pd.to_datetime(fires_cont['DISCOVERY_DATE_D'].astype(str) + ' ' + fires_cont['DISCOVERY_TIME_NEW'].astype(str))\n",
      "<ipython-input-58-f11df8c406a8>:2: SettingWithCopyWarning: \n",
      "A value is trying to be set on a copy of a slice from a DataFrame.\n",
      "Try using .loc[row_indexer,col_indexer] = value instead\n",
      "\n",
      "See the caveats in the documentation: https://pandas.pydata.org/pandas-docs/stable/user_guide/indexing.html#returning-a-view-versus-a-copy\n",
      "  fires_cont['CONT_DATE_DT'] = pd.to_datetime(fires_cont['CONT_DATE_D'].astype(str) + ' ' + fires_cont['CONT_TIME_NEW'].astype(str))\n",
      "<ipython-input-58-f11df8c406a8>:3: SettingWithCopyWarning: \n",
      "A value is trying to be set on a copy of a slice from a DataFrame.\n",
      "Try using .loc[row_indexer,col_indexer] = value instead\n",
      "\n",
      "See the caveats in the documentation: https://pandas.pydata.org/pandas-docs/stable/user_guide/indexing.html#returning-a-view-versus-a-copy\n",
      "  fires_cont['CONT_HOURS'] = (fires_cont['CONT_DATE_DT'] - fires_cont['DISCOVERY_DATE_DT'])/ np.timedelta64(1,'h')\n"
     ]
    },
    {
     "data": {
      "text/html": [
       "<div>\n",
       "<style scoped>\n",
       "    .dataframe tbody tr th:only-of-type {\n",
       "        vertical-align: middle;\n",
       "    }\n",
       "\n",
       "    .dataframe tbody tr th {\n",
       "        vertical-align: top;\n",
       "    }\n",
       "\n",
       "    .dataframe thead th {\n",
       "        text-align: right;\n",
       "    }\n",
       "</style>\n",
       "<table border=\"1\" class=\"dataframe\">\n",
       "  <thead>\n",
       "    <tr style=\"text-align: right;\">\n",
       "      <th></th>\n",
       "      <th>OBJECTID</th>\n",
       "      <th>SOURCE_SYSTEM_TYPE</th>\n",
       "      <th>SOURCE_SYSTEM</th>\n",
       "      <th>NWCG_REPORTING_AGENCY</th>\n",
       "      <th>NWCG_REPORTING_UNIT_ID</th>\n",
       "      <th>NWCG_REPORTING_UNIT_NAME</th>\n",
       "      <th>SOURCE_REPORTING_UNIT</th>\n",
       "      <th>SOURCE_REPORTING_UNIT_NAME</th>\n",
       "      <th>FIRE_NAME</th>\n",
       "      <th>FIRE_YEAR</th>\n",
       "      <th>...</th>\n",
       "      <th>REGION</th>\n",
       "      <th>DISCOVERY_HOUR</th>\n",
       "      <th>DISCOVERY_MIN</th>\n",
       "      <th>CONT_HOUR</th>\n",
       "      <th>CONT_MIN</th>\n",
       "      <th>DISCOVERY_TIME_NEW</th>\n",
       "      <th>CONT_TIME_NEW</th>\n",
       "      <th>DISCOVERY_DATE_DT</th>\n",
       "      <th>CONT_DATE_DT</th>\n",
       "      <th>CONT_HOURS</th>\n",
       "    </tr>\n",
       "  </thead>\n",
       "  <tbody>\n",
       "    <tr>\n",
       "      <th>0</th>\n",
       "      <td>1</td>\n",
       "      <td>FED</td>\n",
       "      <td>FS-FIRESTAT</td>\n",
       "      <td>FS</td>\n",
       "      <td>USCAPNF</td>\n",
       "      <td>Plumas National Forest</td>\n",
       "      <td>0511</td>\n",
       "      <td>Plumas National Forest</td>\n",
       "      <td>FOUNTAIN</td>\n",
       "      <td>2005</td>\n",
       "      <td>...</td>\n",
       "      <td>West</td>\n",
       "      <td>13</td>\n",
       "      <td>00</td>\n",
       "      <td>17</td>\n",
       "      <td>30</td>\n",
       "      <td>1900-01-01 13:00:00</td>\n",
       "      <td>1900-01-01 17:30:00</td>\n",
       "      <td>2005-02-02 13:00:00-01:00</td>\n",
       "      <td>2005-02-02 17:30:00-01:00</td>\n",
       "      <td>4.50</td>\n",
       "    </tr>\n",
       "    <tr>\n",
       "      <th>1</th>\n",
       "      <td>2</td>\n",
       "      <td>FED</td>\n",
       "      <td>FS-FIRESTAT</td>\n",
       "      <td>FS</td>\n",
       "      <td>USCAENF</td>\n",
       "      <td>Eldorado National Forest</td>\n",
       "      <td>0503</td>\n",
       "      <td>Eldorado National Forest</td>\n",
       "      <td>PIGEON</td>\n",
       "      <td>2004</td>\n",
       "      <td>...</td>\n",
       "      <td>West</td>\n",
       "      <td>08</td>\n",
       "      <td>45</td>\n",
       "      <td>15</td>\n",
       "      <td>30</td>\n",
       "      <td>1900-01-01 08:45:00</td>\n",
       "      <td>1900-01-01 15:30:00</td>\n",
       "      <td>2004-05-12 08:45:00-01:00</td>\n",
       "      <td>2004-05-12 15:30:00-01:00</td>\n",
       "      <td>6.75</td>\n",
       "    </tr>\n",
       "    <tr>\n",
       "      <th>2</th>\n",
       "      <td>3</td>\n",
       "      <td>FED</td>\n",
       "      <td>FS-FIRESTAT</td>\n",
       "      <td>FS</td>\n",
       "      <td>USCAENF</td>\n",
       "      <td>Eldorado National Forest</td>\n",
       "      <td>0503</td>\n",
       "      <td>Eldorado National Forest</td>\n",
       "      <td>SLACK</td>\n",
       "      <td>2004</td>\n",
       "      <td>...</td>\n",
       "      <td>West</td>\n",
       "      <td>19</td>\n",
       "      <td>21</td>\n",
       "      <td>20</td>\n",
       "      <td>24</td>\n",
       "      <td>1900-01-01 19:21:00</td>\n",
       "      <td>1900-01-01 20:24:00</td>\n",
       "      <td>2004-05-31 19:21:00-01:00</td>\n",
       "      <td>2004-05-31 20:24:00-01:00</td>\n",
       "      <td>1.05</td>\n",
       "    </tr>\n",
       "    <tr>\n",
       "      <th>3</th>\n",
       "      <td>4</td>\n",
       "      <td>FED</td>\n",
       "      <td>FS-FIRESTAT</td>\n",
       "      <td>FS</td>\n",
       "      <td>USCAENF</td>\n",
       "      <td>Eldorado National Forest</td>\n",
       "      <td>0503</td>\n",
       "      <td>Eldorado National Forest</td>\n",
       "      <td>DEER</td>\n",
       "      <td>2004</td>\n",
       "      <td>...</td>\n",
       "      <td>West</td>\n",
       "      <td>16</td>\n",
       "      <td>00</td>\n",
       "      <td>14</td>\n",
       "      <td>00</td>\n",
       "      <td>1900-01-01 16:00:00</td>\n",
       "      <td>1900-01-01 14:00:00</td>\n",
       "      <td>2004-06-28 16:00:00-01:00</td>\n",
       "      <td>2004-07-03 14:00:00-01:00</td>\n",
       "      <td>118.00</td>\n",
       "    </tr>\n",
       "    <tr>\n",
       "      <th>4</th>\n",
       "      <td>5</td>\n",
       "      <td>FED</td>\n",
       "      <td>FS-FIRESTAT</td>\n",
       "      <td>FS</td>\n",
       "      <td>USCAENF</td>\n",
       "      <td>Eldorado National Forest</td>\n",
       "      <td>0503</td>\n",
       "      <td>Eldorado National Forest</td>\n",
       "      <td>STEVENOT</td>\n",
       "      <td>2004</td>\n",
       "      <td>...</td>\n",
       "      <td>West</td>\n",
       "      <td>16</td>\n",
       "      <td>00</td>\n",
       "      <td>12</td>\n",
       "      <td>00</td>\n",
       "      <td>1900-01-01 16:00:00</td>\n",
       "      <td>1900-01-01 12:00:00</td>\n",
       "      <td>2004-06-28 16:00:00-01:00</td>\n",
       "      <td>2004-07-03 12:00:00-01:00</td>\n",
       "      <td>116.00</td>\n",
       "    </tr>\n",
       "  </tbody>\n",
       "</table>\n",
       "<p>5 rows × 39 columns</p>\n",
       "</div>"
      ],
      "text/plain": [
       "   OBJECTID SOURCE_SYSTEM_TYPE SOURCE_SYSTEM NWCG_REPORTING_AGENCY  \\\n",
       "0         1                FED   FS-FIRESTAT                    FS   \n",
       "1         2                FED   FS-FIRESTAT                    FS   \n",
       "2         3                FED   FS-FIRESTAT                    FS   \n",
       "3         4                FED   FS-FIRESTAT                    FS   \n",
       "4         5                FED   FS-FIRESTAT                    FS   \n",
       "\n",
       "  NWCG_REPORTING_UNIT_ID  NWCG_REPORTING_UNIT_NAME SOURCE_REPORTING_UNIT  \\\n",
       "0                USCAPNF    Plumas National Forest                  0511   \n",
       "1                USCAENF  Eldorado National Forest                  0503   \n",
       "2                USCAENF  Eldorado National Forest                  0503   \n",
       "3                USCAENF  Eldorado National Forest                  0503   \n",
       "4                USCAENF  Eldorado National Forest                  0503   \n",
       "\n",
       "  SOURCE_REPORTING_UNIT_NAME FIRE_NAME  FIRE_YEAR  ...  REGION  \\\n",
       "0     Plumas National Forest  FOUNTAIN       2005  ...    West   \n",
       "1   Eldorado National Forest    PIGEON       2004  ...    West   \n",
       "2   Eldorado National Forest     SLACK       2004  ...    West   \n",
       "3   Eldorado National Forest      DEER       2004  ...    West   \n",
       "4   Eldorado National Forest  STEVENOT       2004  ...    West   \n",
       "\n",
       "   DISCOVERY_HOUR DISCOVERY_MIN  CONT_HOUR CONT_MIN  DISCOVERY_TIME_NEW  \\\n",
       "0              13            00         17       30 1900-01-01 13:00:00   \n",
       "1              08            45         15       30 1900-01-01 08:45:00   \n",
       "2              19            21         20       24 1900-01-01 19:21:00   \n",
       "3              16            00         14       00 1900-01-01 16:00:00   \n",
       "4              16            00         12       00 1900-01-01 16:00:00   \n",
       "\n",
       "        CONT_TIME_NEW         DISCOVERY_DATE_DT              CONT_DATE_DT  \\\n",
       "0 1900-01-01 17:30:00 2005-02-02 13:00:00-01:00 2005-02-02 17:30:00-01:00   \n",
       "1 1900-01-01 15:30:00 2004-05-12 08:45:00-01:00 2004-05-12 15:30:00-01:00   \n",
       "2 1900-01-01 20:24:00 2004-05-31 19:21:00-01:00 2004-05-31 20:24:00-01:00   \n",
       "3 1900-01-01 14:00:00 2004-06-28 16:00:00-01:00 2004-07-03 14:00:00-01:00   \n",
       "4 1900-01-01 12:00:00 2004-06-28 16:00:00-01:00 2004-07-03 12:00:00-01:00   \n",
       "\n",
       "  CONT_HOURS  \n",
       "0       4.50  \n",
       "1       6.75  \n",
       "2       1.05  \n",
       "3     118.00  \n",
       "4     116.00  \n",
       "\n",
       "[5 rows x 39 columns]"
      ]
     },
     "execution_count": 58,
     "metadata": {},
     "output_type": "execute_result"
    }
   ],
   "source": [
    "fires_cont['DISCOVERY_DATE_DT'] = pd.to_datetime(fires_cont['DISCOVERY_DATE_D'].astype(str) + ' ' + fires_cont['DISCOVERY_TIME_NEW'].astype(str))\n",
    "fires_cont['CONT_DATE_DT'] = pd.to_datetime(fires_cont['CONT_DATE_D'].astype(str) + ' ' + fires_cont['CONT_TIME_NEW'].astype(str))\n",
    "fires_cont['CONT_HOURS'] = (fires_cont['CONT_DATE_DT'] - fires_cont['DISCOVERY_DATE_DT'])/ np.timedelta64(1,'h')\n",
    "\n",
    "fires_cont.head()\n"
   ]
  },
  {
   "cell_type": "code",
   "execution_count": 59,
   "metadata": {},
   "outputs": [
    {
     "data": {
      "text/plain": [
       "count    623178.000000\n",
       "mean         36.503303\n",
       "std         316.236791\n",
       "min           0.000000\n",
       "25%           0.333333\n",
       "50%           1.333333\n",
       "75%           4.900000\n",
       "max       78888.000000\n",
       "Name: CONT_HOURS, dtype: float64"
      ]
     },
     "execution_count": 59,
     "metadata": {},
     "output_type": "execute_result"
    }
   ],
   "source": [
    "fires_cont['CONT_HOURS'].describe()"
   ]
  },
  {
   "cell_type": "code",
   "execution_count": 60,
   "metadata": {},
   "outputs": [],
   "source": [
    "fires_cont.to_csv('Fires_During_After_2000_With_Containment.csv')"
   ]
  },
  {
   "cell_type": "code",
   "execution_count": 8,
   "metadata": {},
   "outputs": [
    {
     "name": "stdout",
     "output_type": "stream",
     "text": [
      "<class 'pandas.core.frame.DataFrame'>\n",
      "Int64Index: 189837 entries, 16 to 1880441\n",
      "Data columns (total 30 columns):\n",
      " #   Column                      Non-Null Count   Dtype         \n",
      "---  ------                      --------------   -----         \n",
      " 0   OBJECTID                    189837 non-null  int64         \n",
      " 1   SOURCE_SYSTEM_TYPE          189837 non-null  object        \n",
      " 2   SOURCE_SYSTEM               189837 non-null  object        \n",
      " 3   NWCG_REPORTING_AGENCY       189837 non-null  object        \n",
      " 4   NWCG_REPORTING_UNIT_ID      189837 non-null  object        \n",
      " 5   NWCG_REPORTING_UNIT_NAME    189837 non-null  object        \n",
      " 6   SOURCE_REPORTING_UNIT       189837 non-null  object        \n",
      " 7   SOURCE_REPORTING_UNIT_NAME  189837 non-null  object        \n",
      " 8   FIRE_NAME                   100447 non-null  object        \n",
      " 9   FIRE_YEAR                   189837 non-null  int64         \n",
      " 10  DISCOVERY_DATE              189837 non-null  float64       \n",
      " 11  DISCOVERY_DOY               189837 non-null  int64         \n",
      " 12  DISCOVERY_TIME              97334 non-null   object        \n",
      " 13  STAT_CAUSE_CODE             189837 non-null  float64       \n",
      " 14  STAT_CAUSE_DESCR            189837 non-null  object        \n",
      " 15  CONT_DATE                   92426 non-null   float64       \n",
      " 16  CONT_DOY                    92426 non-null   float64       \n",
      " 17  CONT_TIME                   84814 non-null   object        \n",
      " 18  FIRE_SIZE                   189837 non-null  float64       \n",
      " 19  FIRE_SIZE_CLASS             189837 non-null  object        \n",
      " 20  LATITUDE                    189837 non-null  float64       \n",
      " 21  LONGITUDE                   189837 non-null  float64       \n",
      " 22  OWNER_CODE                  189837 non-null  float64       \n",
      " 23  OWNER_DESCR                 189837 non-null  object        \n",
      " 24  STATE                       189837 non-null  object        \n",
      " 25  Shape                       189837 non-null  object        \n",
      " 26  DAYS_TO_CONTAIN             189837 non-null  float64       \n",
      " 27  DISCOVERY_DATE_DT           189837 non-null  datetime64[ns]\n",
      " 28  CONT_DATE_DT                92426 non-null   datetime64[ns]\n",
      " 29  REGION                      189837 non-null  object        \n",
      "dtypes: datetime64[ns](2), float64(9), int64(3), object(16)\n",
      "memory usage: 44.9+ MB\n"
     ]
    }
   ],
   "source": [
    "# Restrict to fires at least 10 acres large\n",
    "fires_10_acre = fires[fires['FIRE_SIZE'] >= 10]\n",
    "fires_10_acre.info()"
   ]
  },
  {
   "cell_type": "code",
   "execution_count": 9,
   "metadata": {},
   "outputs": [],
   "source": [
    "fires_10_acre.to_csv('Fires_At_Least_10_Acres_2000_Later.csv')"
   ]
  },
  {
   "cell_type": "code",
   "execution_count": 12,
   "metadata": {},
   "outputs": [
    {
     "name": "stdout",
     "output_type": "stream",
     "text": [
      "<class 'pandas.core.frame.DataFrame'>\n",
      "Int64Index: 132989 entries, 3 to 1880458\n",
      "Data columns (total 30 columns):\n",
      " #   Column                      Non-Null Count   Dtype         \n",
      "---  ------                      --------------   -----         \n",
      " 0   OBJECTID                    132989 non-null  int64         \n",
      " 1   SOURCE_SYSTEM_TYPE          132989 non-null  object        \n",
      " 2   SOURCE_SYSTEM               132989 non-null  object        \n",
      " 3   NWCG_REPORTING_AGENCY       132989 non-null  object        \n",
      " 4   NWCG_REPORTING_UNIT_ID      132989 non-null  object        \n",
      " 5   NWCG_REPORTING_UNIT_NAME    132989 non-null  object        \n",
      " 6   SOURCE_REPORTING_UNIT       132989 non-null  object        \n",
      " 7   SOURCE_REPORTING_UNIT_NAME  132989 non-null  object        \n",
      " 8   FIRE_NAME                   123333 non-null  object        \n",
      " 9   FIRE_YEAR                   132989 non-null  int64         \n",
      " 10  DISCOVERY_DATE              132989 non-null  float64       \n",
      " 11  DISCOVERY_DOY               132989 non-null  int64         \n",
      " 12  DISCOVERY_TIME              127162 non-null  object        \n",
      " 13  STAT_CAUSE_CODE             132989 non-null  float64       \n",
      " 14  STAT_CAUSE_DESCR            132989 non-null  object        \n",
      " 15  CONT_DATE                   132989 non-null  float64       \n",
      " 16  CONT_DOY                    132989 non-null  float64       \n",
      " 17  CONT_TIME                   125166 non-null  object        \n",
      " 18  FIRE_SIZE                   132989 non-null  float64       \n",
      " 19  FIRE_SIZE_CLASS             132989 non-null  object        \n",
      " 20  LATITUDE                    132989 non-null  float64       \n",
      " 21  LONGITUDE                   132989 non-null  float64       \n",
      " 22  OWNER_CODE                  132989 non-null  float64       \n",
      " 23  OWNER_DESCR                 132989 non-null  object        \n",
      " 24  STATE                       132989 non-null  object        \n",
      " 25  Shape                       132989 non-null  object        \n",
      " 26  DAYS_TO_CONTAIN             132989 non-null  float64       \n",
      " 27  DISCOVERY_DATE_DT           132989 non-null  datetime64[ns]\n",
      " 28  CONT_DATE_DT                132989 non-null  datetime64[ns]\n",
      " 29  REGION                      132989 non-null  object        \n",
      "dtypes: datetime64[ns](2), float64(9), int64(3), object(16)\n",
      "memory usage: 31.5+ MB\n"
     ]
    }
   ],
   "source": [
    "# Restrict to fires at least 1 acre large and took more than 1 day to contain\n",
    "#fires_1_acre = fires[fires['FIRE_SIZE'] >= 1]\n",
    "fires_1_day = fires[fires['DAYS_TO_CONTAIN']>0]\n",
    "fires_1_day.info()"
   ]
  },
  {
   "cell_type": "code",
   "execution_count": 13,
   "metadata": {},
   "outputs": [],
   "source": [
    "fires_1_day.to_csv('Fires_At_Least_1_Day_2000_Later.csv')"
   ]
  },
  {
   "cell_type": "code",
   "execution_count": null,
   "metadata": {},
   "outputs": [],
   "source": []
  },
  {
   "cell_type": "code",
   "execution_count": 43,
   "metadata": {},
   "outputs": [
    {
     "data": {
      "text/plain": [
       "1    678456\n",
       "0    629861\n",
       "Name: NO_CONT, dtype: int64"
      ]
     },
     "execution_count": 43,
     "metadata": {},
     "output_type": "execute_result"
    }
   ],
   "source": [
    "fires['NO_CONT'] = np.where(fires['CONT_DATE'].isna(), 0, 1)\n",
    "fires['NO_CONT'].value_counts()"
   ]
  },
  {
   "cell_type": "code",
   "execution_count": 44,
   "metadata": {},
   "outputs": [
    {
     "name": "stdout",
     "output_type": "stream",
     "text": [
      "NO_CONT                    0         1\n",
      "SOURCE_SYSTEM_TYPE                    \n",
      "FED                 0.016662  0.983338\n",
      "INTERAGCY           0.903783  0.096217\n",
      "NONFED              0.621083  0.378917\n"
     ]
    }
   ],
   "source": [
    "data_crosstab = pd.crosstab(fires['SOURCE_SYSTEM_TYPE'], \n",
    "                            fires['NO_CONT'],  \n",
    "                               margins = False, normalize = 'index') \n",
    "print(data_crosstab) "
   ]
  },
  {
   "cell_type": "code",
   "execution_count": 45,
   "metadata": {},
   "outputs": [
    {
     "name": "stdout",
     "output_type": "stream",
     "text": [
      "NO_CONT                  0       1\n",
      "SOURCE_SYSTEM_TYPE                \n",
      "FED                   5315  313672\n",
      "INTERAGCY            32256    3434\n",
      "NONFED              592290  361350\n"
     ]
    }
   ],
   "source": [
    "data_crosstab = pd.crosstab(fires['SOURCE_SYSTEM_TYPE'], \n",
    "                            fires['NO_CONT'],  \n",
    "                               margins = False) \n",
    "print(data_crosstab) "
   ]
  },
  {
   "cell_type": "code",
   "execution_count": 55,
   "metadata": {},
   "outputs": [
    {
     "name": "stdout",
     "output_type": "stream",
     "text": [
      "NO_CONT                       0         1\n",
      "NWCG_REPORTING_AGENCY                    \n",
      "BIA                    0.004683  0.995317\n",
      "BLM                    0.001948  0.998052\n",
      "BOR                    0.000000  1.000000\n",
      "DOD                    0.475000  0.525000\n",
      "DOE                    0.500000  0.500000\n",
      "FS                     0.017267  0.982733\n",
      "FWS                    0.094374  0.905626\n",
      "IA                     0.998855  0.001145\n",
      "NPS                    0.094919  0.905081\n",
      "ST/C&L                 0.623050  0.376950\n",
      "TRIBE                  0.008221  0.991779\n"
     ]
    }
   ],
   "source": [
    "data_crosstab = pd.crosstab(fires['NWCG_REPORTING_AGENCY'], \n",
    "                            fires['NO_CONT'],  \n",
    "                               margins = False, normalize = 'index') \n",
    "print(data_crosstab) "
   ]
  },
  {
   "cell_type": "code",
   "execution_count": 61,
   "metadata": {},
   "outputs": [
    {
     "name": "stdout",
     "output_type": "stream",
     "text": [
      "NO_CONT                     0       1\n",
      "NWCG_REPORTING_AGENCY                \n",
      "BIA                       388   82473\n",
      "BLM                       134   68665\n",
      "BOR                         0      14\n",
      "DOD                        38      42\n",
      "DOE                         1       1\n",
      "FS                       2378  135338\n",
      "FWS                      1384   13281\n",
      "IA                      21816      25\n",
      "NPS                      1160   11061\n",
      "ST/C&L                 602537  364540\n",
      "TRIBE                      25    3016\n"
     ]
    }
   ],
   "source": [
    "data_crosstab = pd.crosstab(fires['NWCG_REPORTING_AGENCY'], \n",
    "                            fires['NO_CONT'],  \n",
    "                               margins = False) \n",
    "print(data_crosstab) "
   ]
  },
  {
   "cell_type": "code",
   "execution_count": 57,
   "metadata": {},
   "outputs": [
    {
     "name": "stdout",
     "output_type": "stream",
     "text": [
      "NO_CONT                       0         1\n",
      "OWNER_DESCR                              \n",
      "BIA                    0.005221  0.994779\n",
      "BLM                    0.000895  0.999105\n",
      "BOR                    0.003876  0.996124\n",
      "COUNTY                 0.196866  0.803134\n",
      "FOREIGN                0.166667  0.833333\n",
      "FWS                    0.139621  0.860379\n",
      "MISSING/NOT SPECIFIED  0.748108  0.251892\n",
      "MUNICIPAL/LOCAL        0.200240  0.799760\n",
      "NPS                    0.106216  0.893784\n",
      "OTHER FEDERAL          0.014650  0.985350\n",
      "PRIVATE                0.194422  0.805578\n",
      "STATE                  0.151607  0.848393\n",
      "STATE OR PRIVATE       0.644809  0.355191\n",
      "TRIBAL                 0.003503  0.996497\n",
      "UNDEFINED FEDERAL      0.324841  0.675159\n",
      "USFS                   0.018531  0.981469\n"
     ]
    }
   ],
   "source": [
    "data_crosstab = pd.crosstab(fires['OWNER_DESCR'], \n",
    "                            fires['NO_CONT'],  \n",
    "                               margins = False, normalize = 'index') \n",
    "print(data_crosstab) "
   ]
  },
  {
   "cell_type": "code",
   "execution_count": 62,
   "metadata": {},
   "outputs": [
    {
     "name": "stdout",
     "output_type": "stream",
     "text": [
      "NO_CONT                     0       1\n",
      "OWNER_DESCR                          \n",
      "BIA                       370   70496\n",
      "BLM                        38   42399\n",
      "BOR                         1     257\n",
      "COUNTY                    289    1179\n",
      "FOREIGN                     2      10\n",
      "FWS                      1171    7216\n",
      "MISSING/NOT SPECIFIED  532839  179410\n",
      "MUNICIPAL/LOCAL           836    3339\n",
      "NPS                      1097    9231\n",
      "OTHER FEDERAL              66    4439\n",
      "PRIVATE                 46028  190715\n",
      "STATE                    3973   22233\n",
      "STATE OR PRIVATE        40229   22160\n",
      "TRIBAL                     30    8535\n",
      "UNDEFINED FEDERAL         714    1484\n",
      "USFS                     2178  115353\n"
     ]
    }
   ],
   "source": [
    "data_crosstab = pd.crosstab(fires['OWNER_DESCR'], \n",
    "                            fires['NO_CONT'],  \n",
    "                               margins = False) \n",
    "print(data_crosstab) "
   ]
  },
  {
   "cell_type": "code",
   "execution_count": 58,
   "metadata": {},
   "outputs": [
    {
     "data": {
      "text/plain": [
       "FED          45344\n",
       "NONFED       15318\n",
       "INTERAGCY     1303\n",
       "Name: SOURCE_SYSTEM_TYPE, dtype: int64"
      ]
     },
     "execution_count": 58,
     "metadata": {},
     "output_type": "execute_result"
    }
   ],
   "source": [
    "fires_1_acre_1_day['SOURCE_SYSTEM_TYPE'].value_counts()"
   ]
  },
  {
   "cell_type": "code",
   "execution_count": 59,
   "metadata": {},
   "outputs": [
    {
     "data": {
      "text/plain": [
       "FS        19834\n",
       "ST/C&L    16476\n",
       "BLM       13933\n",
       "BIA        6803\n",
       "FWS        2835\n",
       "NPS        1780\n",
       "TRIBE       250\n",
       "DOD          31\n",
       "IA           19\n",
       "BOR           3\n",
       "DOE           1\n",
       "Name: NWCG_REPORTING_AGENCY, dtype: int64"
      ]
     },
     "execution_count": 59,
     "metadata": {},
     "output_type": "execute_result"
    }
   ],
   "source": [
    "fires_1_acre_1_day['NWCG_REPORTING_AGENCY'].value_counts()"
   ]
  },
  {
   "cell_type": "code",
   "execution_count": 60,
   "metadata": {},
   "outputs": [
    {
     "data": {
      "text/plain": [
       "USFS                     17411\n",
       "PRIVATE                  12869\n",
       "BLM                       8856\n",
       "MISSING/NOT SPECIFIED     6148\n",
       "BIA                       5567\n",
       "STATE                     2837\n",
       "STATE OR PRIVATE          2518\n",
       "FWS                       2186\n",
       "NPS                       1601\n",
       "TRIBAL                     822\n",
       "OTHER FEDERAL              480\n",
       "MUNICIPAL/LOCAL            359\n",
       "UNDEFINED FEDERAL          130\n",
       "COUNTY                     119\n",
       "BOR                         60\n",
       "FOREIGN                      2\n",
       "Name: OWNER_DESCR, dtype: int64"
      ]
     },
     "execution_count": 60,
     "metadata": {},
     "output_type": "execute_result"
    }
   ],
   "source": [
    "fires_1_acre_1_day['OWNER_DESCR'].value_counts()"
   ]
  },
  {
   "cell_type": "code",
   "execution_count": null,
   "metadata": {},
   "outputs": [],
   "source": []
  }
 ],
 "metadata": {
  "kernelspec": {
   "display_name": "Python 3",
   "language": "python",
   "name": "python3"
  },
  "language_info": {
   "codemirror_mode": {
    "name": "ipython",
    "version": 3
   },
   "file_extension": ".py",
   "mimetype": "text/x-python",
   "name": "python",
   "nbconvert_exporter": "python",
   "pygments_lexer": "ipython3",
   "version": "3.8.5"
  }
 },
 "nbformat": 4,
 "nbformat_minor": 4
}
